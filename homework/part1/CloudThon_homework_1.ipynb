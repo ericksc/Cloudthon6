{
  "nbformat": 4,
  "nbformat_minor": 0,
  "metadata": {
    "colab": {
      "provenance": []
    },
    "kernelspec": {
      "name": "python3",
      "display_name": "Python 3"
    },
    "language_info": {
      "name": "python"
    }
  },
  "cells": [
    {
      "cell_type": "markdown",
      "source": [
        "# Homework\n",
        "\n",
        "Goal:\n",
        "\n",
        "Complete the following points that represent the steps to implement a system to apply regression to the house price prediction case."
      ],
      "metadata": {
        "id": "In3kbxGF9-ao"
      }
    },
    {
      "cell_type": "markdown",
      "source": [
        "In this exercise, you will try to build a lineal regression plot that predicts the price of a house based on a simple formula.\n",
        "\n",
        "\n",
        "So imagine if the price of the house was as easy as a house is in relation to the number of rooms it has.\n",
        "The following information has been collected:\n"
      ],
      "metadata": {
        "id": "Hv74etR0-ZLw"
      }
    },
    {
      "cell_type": "markdown",
      "source": [
        "![image.png](data:image/png;base64,iVBORw0KGgoAAAANSUhEUgAAALIAAAByCAYAAAD3YovcAAAPBUlEQVR4Ae2di5HbOBBEnYuDuVgciiNxII7DsezVk921vb0ABZKgRGpnqrj4zBeNJsQT5bpv3759e6urMLgiB95MvrGAku0IFH7bsdvjmbgXkfeg+fZ2+zTbGaLcNyBQRN4A2pJLArpkW7p5CCTudSLvxDYB3Rmu3AcRSNyLyIPA9cwS0J7dmee/f//+9uvXr9Ul/vnz5/ZoRXtP1tjei4U+cT+UyIBDQr9+//49Uucqm58/f35a2KoAO4wT0DWhVLfwYbxXwDdr+u+//964elJE7iHzbx4iA5JExB65g+Vz9jZJM1rvjx8/moTbe6O3iHyvpiLyHYSSyJg7aJBA5HbC64SiZcNdRAB0OmVaeTyGx/ZYM/rkWSsi29INnae1cuDLelwvjISlrx0/9LJhnL6+J+jBVTGEsfK7TnF667hnS95eHuXrtYn74Y8WSSIHjWJaegCSuD3zbs/msLFJZOJ6DADNDVH8vW0COhIv15E+rMeJR+0a6ybQWM+ezCPSe0xsZS+9yEctrIGcCHbqM3Zd1i2iKpbnvGfra8KPMT6jkrg/lMgCTcVSjDaAOYEsPS0+LBJxUruNE9n7smnFlW5vm4COxPM1rbVvrQV8RL6W3onsfeXu4YreCZZ2uolaRF6ybfm19k31tdrE/XAik9AvL4p5gJdoE9yevhPZ7eXnINCXvfQt4KTb21LfWhkhMmtwHLQmYeQ50RETaemdvPRlqxhJOs9LX/bYOf5LuC7Zyi/z4DMq+LocTuSl4ijGgWltghdLLJ08Pp9Ezpz34nqstf0EdMRf9bChLYFsIi56J7583W8tkYnv4rjSF3Gx8dhuh06EbK1jyXbJz+ta6ifupyIyhSeQvhg2AL2EMRvrREbHInMzcvMUY2+bgI7GgyC+Fvy0HlqvFzsR+x6RWyTxeGBFzSIfOsY6IMilvmIJS2y9Zvoey9d+z5b1YLNVEvfTEZmFUaRfAhIdAEgnIJLI2oC02wrakh85tgr1q0ZaX6fPYzdKZGoRRiId/sIKveclJ/Yir24U5cfW6xJ50ctWN0XicM/W9cTzGjNWjrF3OZTInuhV+wnoq67zbOtK3IvIO3coAd0ZrtwHEUjci8iDwPXMEtCeXc3PRSBxLyLvxDcB3Rmu3AcRSNyLyIPA9cwS0J5dzc9FIHEvIu/ENwHdGa7cBxFI3IvIg8D1zBLQnl3Nz0UgcS8i78Q3Ad0ZrtwHEUjci8iDwPXMEtCeHfN6UdN7gbDkmy99lmy/gi5xLyLv3PUEdCnckUTmLZnejO3J4/Vz87C+LTeexzmin7gXkXeinIAuhdtDsDUn8p48S/WfSZe4F5F37k4CuhROBNNJh69+QyE//U4idSIyv3tAx6UTGF/80On3D7Kh1Ynai42/x+V0RxTrNvj3J38fId3I2jyH10WMpdqUw1v8XYrIjsaGfgK6FEKbzaZJ8IekCMRUn7HrRH7IgCiW7EVk14nAzI3EvgX+R2riJpH98UUxRXrV01ub6lcOxvL1vvT32sS9iHwPsTv6BHTJXJudBBM509fJ2dpsyKlT2W1beZZiu6/bOZG9LxvP433pqU1ra+UAO+KK5I6LYvTaxL2I3ENqcD4BXXLrbbbIiC/x/BIRWkRGJ18nSivPUmx8iZ/i5KWvE9TtqBVdKye1eX2+LvXxRURmxfMcrT52LkVkR2NDPwFdCnFvsyGKiEscJ2eLyEkU+bbyLMX2PF5/EjnX6nm8rxi9+qRvtSJ0S+dzWUsR2dHZ0E9Al0Lc22zIppNRtiKnNlhj6XWiJRmpSzpqWopNTF8HY/I5kRVDJyxj+uRFVA+txIms+qXrtZmzZ+f1YlNE7iE1OJ+ALrnd22xtIjG5IIKICxEgDXPSS0fOJLLboV+Kjd7tRU75+JqUm1Z26O+tDRvdMB4jc6Mj7z3BzqWI7Ghs6CegG0KUywYEEvci8gYQ3SUBdV31j0MgcS8i78Q6Ad0ZrtwHEUjcb0Rmsq7C4GoccM7XiexobOjnybAhRLlsQCBxLyJvANFdElDXVf84BBL3IvJOrBPQneHKfRCBxH06kfm+k+8kv4okoF9l3c9eZ+I+nch86e1f1D97wb38rS/we7ZL8wnokm3p5iGQuE8jst4CkYCLV6IpzKHz15jYpG/eCLxBUlzarcInheoqIr//UOeKn6DJgylEFin81SLkE2H1nl2E1TyElC82rbGTD32Ob04b/iiv17IhzO0G2+L3bB9uaLDU9ex61uY/hMgtgrYKa5GH09ff2eMHuJqjYL9BFIM5LjaEGNhx0ZcNY8UhrueSDe0eIceVpYgcu6fHhpj+MGyRpwUkhCNey56AkIcTXDcQMRCNnVyyRV9EvsH04U8L/w8GJx34HlPilEcLrRVQSMAFaVJaxGwBCUmXiIzOiex5yA2hJcRXLUVkofLetvB/1563dyiRtWwRVgTKefSSFpD4LRGZRawhMjmQIrJQf29b+L9rz9t7CJFZPgD58ylzIrgT2ckl2BzcPGE9hh4l5Eeb9h7Lc3kc91/bT0DX+j/b3vF5di1r8ifuUx4tOB0hiQuJcq5FHpFRjwOy0ZibwW8Iv0Hkm3nly7xvVBHZkfrbd3w+a887cwiRWS6B/XISQ3TXqQ9pkdQzduExQz70JUVkIbG+dUyFLaS+ilCzy5QTWQEhrxNY86/cJqCvvNYzrS1xn0pk7ug8Tc+0+CNqSUCPyFExPyOQuE8l8ud0rz+TgL7+is+xwsS9iLxzXxLQneHKfRCBxP1GZCbrKgyuxgHnfJ3IjsaGfp4MG0KUywYEEvci8gYQ3SUBdV31j0MgcS8i78Q6Ad0ZrtwHEUjcpxOZr9+u9MX6IG5dswS0a1iKqQgk7tOJfJWXInoVrreLW1FOQLfGKb91CCTu04is18Uk4PJXySpRr0WTPPLxVj60/Naip3O7e30+KVTXVycyB45j6r9PuYfjGfTU7jKFyCKFgwH5RFj9lkJk17wKoSj31Tytk681dts1fdWctayJgW0Cutb/GfasWTc0+UXqZ9SyNWfiPoXIPYJmkT3yLBE5dYpBTi42RBuBLX3ZMPZfzqHTWDa0e4QcV5dZWDwSh8R9CpFZgB4blhbTA4yi/NLvNZbssdENpP+41NgXSV/xisjt3RFube05Z32PqXAakQkGoURISJPSI6bb+WNIz56bxons/uRnYyTUpFqKyELlY6tPtY+z5x4dSmQtXQQUgXIe/ZIIWMVJexaxhsg6sYvIn1EHGz1ufdaed+YhRGb5LYB6xEy4dOIynyesx2h9JKY9dRSRE+G/Y3AB6yvKIUTmdMzTl0Q55yQUeNjgL2HsRXJa+InhN0gRWaitbxPX9RGe6+EcoZJpz8gE9stJDFFdpz7EFrk1R5vCqSG9nyBF5ERqbCzchKlafXKNRXmuVfJkGpFZFuR1Aj93qY/JnoA+JmtlSdynEpk72h8TvgLcCehXWPMZ1pi4TyXyGRb46BoS0Efn/6r5Evci8k4mJKA7w5X7IAKJ+43ITNZVGFyNA875OpEdjQ39PBk2hCiXDQgk7kXkDSC6SwLquuofh0DiXkTeiXUCujNcuQ8ikLhPJzJfv13pi/VB3LpmCWjXsBRTEUjcpxP5Ki9F9EaRdo8koHtile84Aon7NCLna09/lUx5JNblv51Al775dhB7+eYCxpf+8V+bfHUig7FjerUXWcmDKUQWKSCkBPLptMs3fhQhsspXQOYYX78pcqx8a1vlUY1r/WWfgGr+zC1rdkxF6jPXnLUl7lOIrBN1lBSQkQsBxDyh0WmOgv0GEQGZ42JDtBG6QWTDWHEyl2xGa04gNU5ANX+ldhYWj1xz4j6FyCwAQmXw3sIgl05kJ7Xs0RGvBzB5OMF1A+mm0NjrkC2x/abpxVYNo63nGvU5m50fHGerrVdP4j6NyCQEEBJwiahZCAT0IlpExmaJyOicyJ6D2BBaQnzVUkQWKh//LwHgeTVxDlH7VCILDJ12IlDOJ9Egmwt+S0RmEWuIrPhFZEf5va9PMjC9ijyEyIABefz5VOROsJxcAhFfkS9PWMWh1QbIjzbtPZbn8jjuv7afgK71P4u9P+6dpaalOhL3KScy5IQkLiTSnAjnJ7FsUyeCyRaA/YbwG0S+ikVbRHY02n32SwcFFsI8D5m29zlmDyEySyOwXyIxOojoOvUBEAFAzdEmoDxmSO/Pc0XkG3yb/jimLcw3BX2gEzW7TDmRFRDyOoE1/8ptAvrKaz3T2hL3qUTm4ypP0zMt/ohaEtAjclTMzwgk7lOJ/Dnd688koK+/4nOsMHG/EZnJugqDq3HAb6k6kR2NDf08GTaEKJcNCCTuReQNILpLAuq66h+HQOJeRN6JdQK6M1y5DyKQuE8nMt9a+Jftg3Vd1iwBvexCLlZ44j6dyFf5Lllvs/RSZus+JqBb45TfOgQS92lE1ls2EnD5GzhK1Dytv3JOnex8Wflm0HVr+nxSqK4i8l/ktG+5J2twfYYtPHGZQmSRAlAkAKPTLl+UUIS/AWTsvopB6+Rrjd12TV81q8Y1vm6bgLruCn1ubPaqiGz/5m6UFJCTS7JE5NSJgBCfi43gpsCOi75sGPsGodNYNqM1q9ZsyXFVAQ/2wXG5yloS9yknMouHUBm8BwpkAjwJfn7pNXePbNhiA5Hp66bQmDmJbBn7hvViy2+09VyjPmewE1bU4ricobaRGhL3aUQmOYQiAZcT1QuDgFlESw/QPbJx0ziR3Z/Y+Ep04jD2DevFlt9ou7SW0RjPsBOG5HZcnlHLlpyJ+1QiqyCRJMmseSeafLzV44LsaV1YxBoi68T2DevF9jwj/QR0xOfZNo4DteT42fWN5E/cDyEyhUAePY8yFnEg4D3x04KCnfiKQ8t8Y0Ef7KmjiPwRcfYF3FoXuF5BGvv+/jy5dQGQM09fEmlOhHNCKhc2Tm7GXiSg+w3hN4jiKhYtvp6niOzotPtg7hi3rc416xyhsmknMoH9EolJ0jsBuPt1wrpvQsYJLT19SRFZSOxri8iBH4A4gUP9kkNusJLHI5C4TzuRWQof4/6Y8PjlPT5jAvr4Cr5mxsR9KpG/IqQJ6FfE4BlrTtxvRGayrsLgahzwG6ge8ByN6l8WgSLyZbeuCncEisiORvUvi8D/of8COs+AQo0AAAAASUVORK5CYII=)"
      ],
      "metadata": {
        "id": "zxlEc8Su-lVX"
      }
    },
    {
      "cell_type": "markdown",
      "source": [
        "A graph must be created that learns this relationship mentioned in the table to predict the price of a 7-bedroom house\n",
        "\n",
        "Put a CSV file which contains the data shown before on a Google Storage bucket.\n"
      ],
      "metadata": {
        "id": "QRcFbFQ4-olG"
      }
    },
    {
      "cell_type": "markdown",
      "source": [
        "#Instructions:\n",
        "\n",
        "Complete the steps with Python code.\n",
        "\n",
        "You must create enough/necessary cells so that the suggested code can be written.\n",
        "\n",
        "Note that they involve the following steps:\n",
        "\n",
        "1. Import the libraries\n",
        "1. Getting data from Google Storage Bucket\n",
        "1. Create a regression plot\n",
        "\n",
        "Submit the document in .ipynb format (The one used by the google colab platform) to ecsa@gft.com"
      ],
      "metadata": {
        "id": "CpnKr3gH_oBu"
      }
    }
  ]
}